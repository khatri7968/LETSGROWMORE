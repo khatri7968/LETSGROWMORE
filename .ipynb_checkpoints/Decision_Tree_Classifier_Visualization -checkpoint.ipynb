{
 "cells": [
  {
   "cell_type": "markdown",
   "id": "289e5386",
   "metadata": {},
   "source": [
    "# Decision Tree Classifier Visualization"
   ]
  },
  {
   "cell_type": "markdown",
   "id": "b5297fca",
   "metadata": {},
   "source": [
    "***Importing necessary modules***"
   ]
  },
  {
   "cell_type": "code",
   "execution_count": null,
   "id": "2e738785",
   "metadata": {},
   "outputs": [],
   "source": [
    "import pandas as pd\n",
    "from sklearn.model_selection import train_test_split\n",
    "from sklearn import tree\n",
    "import matplotlib.pyplot as plt\n",
    "from sklearn import datasets\n",
    "from sklearn.preprocessing import StandardScaler\n",
    "from sklearn import metrics"
   ]
  },
  {
   "cell_type": "markdown",
   "id": "6e07abce",
   "metadata": {},
   "source": [
    "***Loading the data***"
   ]
  },
  {
   "cell_type": "code",
   "execution_count": null,
   "id": "b90c3b07",
   "metadata": {},
   "outputs": [],
   "source": [
    "data = datasets.load_iris()"
   ]
  },
  {
   "cell_type": "code",
   "execution_count": null,
   "id": "783036bc",
   "metadata": {},
   "outputs": [],
   "source": [
    "data"
   ]
  },
  {
   "cell_type": "markdown",
   "id": "ea900171",
   "metadata": {},
   "source": [
    "***Converting data to dataframes***"
   ]
  },
  {
   "cell_type": "code",
   "execution_count": null,
   "id": "aad8751b",
   "metadata": {},
   "outputs": [],
   "source": [
    "x= pd.DataFrame(data.data, columns=data.feature_names)\n",
    "y= pd.DataFrame(data.target_names[data.target], columns=['target'])"
   ]
  },
  {
   "cell_type": "code",
   "execution_count": null,
   "id": "13989145",
   "metadata": {},
   "outputs": [],
   "source": [
    "y.value_counts().plot(kind= 'bar')"
   ]
  },
  {
   "cell_type": "code",
   "execution_count": null,
   "id": "0846724c",
   "metadata": {},
   "outputs": [],
   "source": [
    "print(x)\n",
    "y['target'] = y['target'].replace(['setosa', 'versicolor', 'virginica'],[0,1,2])\n",
    "print(y)"
   ]
  },
  {
   "cell_type": "markdown",
   "id": "6d6512df",
   "metadata": {},
   "source": [
    "***Spiliting into training and testing dataset***"
   ]
  },
  {
   "cell_type": "code",
   "execution_count": null,
   "id": "23bac05f",
   "metadata": {},
   "outputs": [],
   "source": [
    "x_train, x_test, y_train, y_test = train_test_split(x, y, test_size=0.2 ,random_state = 0)"
   ]
  },
  {
   "cell_type": "code",
   "execution_count": null,
   "id": "b36f84ff",
   "metadata": {},
   "outputs": [],
   "source": [
    "sc_x = StandardScaler()\n",
    "x_train = sc_x.fit_transform(x_train)\n",
    "x_test = sc_x.transform(x_test)"
   ]
  },
  {
   "cell_type": "markdown",
   "id": "821783e4",
   "metadata": {},
   "source": [
    "***Building the model***"
   ]
  },
  {
   "cell_type": "code",
   "execution_count": null,
   "id": "89d40acb",
   "metadata": {},
   "outputs": [],
   "source": [
    "model = tree.DecisionTreeClassifier(random_state = 1234)"
   ]
  },
  {
   "cell_type": "code",
   "execution_count": null,
   "id": "9271fba1",
   "metadata": {},
   "outputs": [],
   "source": [
    "model.fit(x_train,y_train)"
   ]
  },
  {
   "cell_type": "code",
   "execution_count": null,
   "id": "ff41fcab",
   "metadata": {},
   "outputs": [],
   "source": [
    "print('Accuracy score of training:',model.score(x_train, y_train))"
   ]
  },
  {
   "cell_type": "markdown",
   "id": "2f773f85",
   "metadata": {},
   "source": [
    "***Testing the model***"
   ]
  },
  {
   "cell_type": "code",
   "execution_count": null,
   "id": "3c67f893",
   "metadata": {},
   "outputs": [],
   "source": [
    "pred = model.predict(x_test)"
   ]
  },
  {
   "cell_type": "code",
   "execution_count": null,
   "id": "bd91d68f",
   "metadata": {},
   "outputs": [],
   "source": [
    "print('Accuracy score of testing:',model.score(x_test, y_test))"
   ]
  },
  {
   "cell_type": "markdown",
   "id": "39a8d0a2",
   "metadata": {},
   "source": [
    "# Visualization of Decision Tree Classifier"
   ]
  },
  {
   "cell_type": "markdown",
   "id": "1750aa5e",
   "metadata": {},
   "source": [
    "***Text Representation***"
   ]
  },
  {
   "cell_type": "code",
   "execution_count": null,
   "id": "c7ce5517",
   "metadata": {},
   "outputs": [],
   "source": [
    "text_representation = tree.export_text(model)\n",
    "print(text_representation)"
   ]
  },
  {
   "cell_type": "markdown",
   "id": "7be85c0e",
   "metadata": {},
   "source": [
    "***Visualizing using plot_tree***"
   ]
  },
  {
   "cell_type": "code",
   "execution_count": null,
   "id": "e3f0a01c",
   "metadata": {},
   "outputs": [],
   "source": [
    "fig = plt.figure(figsize=(25,20))\n",
    "_ = tree.plot_tree(model, \n",
    "                   feature_names=data.feature_names,  \n",
    "                   class_names=data.target_names,\n",
    "                   filled=True)"
   ]
  }
 ],
 "metadata": {
  "kernelspec": {
   "display_name": "Python 3 (ipykernel)",
   "language": "python",
   "name": "python3"
  },
  "language_info": {
   "codemirror_mode": {
    "name": "ipython",
    "version": 3
   },
   "file_extension": ".py",
   "mimetype": "text/x-python",
   "name": "python",
   "nbconvert_exporter": "python",
   "pygments_lexer": "ipython3",
   "version": "3.10.6"
  }
 },
 "nbformat": 4,
 "nbformat_minor": 5
}
